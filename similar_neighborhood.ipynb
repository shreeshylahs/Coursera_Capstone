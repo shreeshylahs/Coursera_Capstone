{
 "cells": [
  {
   "cell_type": "markdown",
   "metadata": {},
   "source": [
    "# Capstone Project - The Battle of Neighborhoods"
   ]
  },
  {
   "cell_type": "markdown",
   "metadata": {},
   "source": [
    "## Title:"
   ]
  },
  {
   "cell_type": "markdown",
   "metadata": {},
   "source": [
    "### Finding similar neighborhood across cities based on Venues across neighborhood"
   ]
  },
  {
   "cell_type": "markdown",
   "metadata": {},
   "source": [
    "## 1. Introduction: \n",
    "### 1.1 Background:\n",
    "Often people have to relocate to different cities due to Job change, there is always a confusion on which neighborhood to shift to in a particular city. Varieties of question arises, \n",
    "* Should I find the neighborhood which is closer to the new workplace? \n",
    "* Should I find the neighborhood which is similar to my current neighborhood?\n",
    "* Should I explore some unique neighborhoods around?\n",
    "* Does the cost of living matter there? Or Does the crime rate matter compared to my current neighborhood? and so many different questions arises as the person starts exploring the city..\n",
    "\n",
    "### 1.2 Business Problem:\n",
    "As we can get the neighborhood data of every city, the venues around the neighborhood, the distance between neighborhood and venues along with rating of venues, crime rates data, this project aims to predict the similar neighborhood based on the current neighborhood and also the nearest to the new desired place of work\n",
    "\n",
    "### 1.3 Interest:\n",
    "Almost all the working professional who desire to relocate to the new city for better opportunity to work.\n",
    "\n",
    "As an instance, Person named \"Adam\" living in \"St. James Town, Downtown Toronto, Canada\" has earned a Job in \"Midtown south, Manhattan, New York\". The proposed model will suggest the neighborhood of Manhattan which is similar to Adam's current neighborhood and also the nearest to his new workplace."
   ]
  },
  {
   "cell_type": "markdown",
   "metadata": {},
   "source": [
    "## 2. Data Aquisition and Cleaning"
   ]
  },
  {
   "cell_type": "markdown",
   "metadata": {},
   "source": [
    "### 2.1 City Data:\n",
    "#### 2.1.1 __Canada__: \n",
    "https://en.wikipedia.org/wiki/List_of_postal_codes_of_Canada:_M_\n",
    "Following attribute is fetched from canada data:\n",
    "* postal code\n",
    "* Neighborhood\n",
    "* Borough\n",
    "\n",
    "Latitude and Longitude of the location can be fetched from the postal code.\n",
    "\n",
    "For this project, \"St. James Town, Downtown Toronto, Canada\" is considered as the source city the user is relocating from.\n",
    "\n",
    "You can check the sample of data below"
   ]
  },
  {
   "cell_type": "code",
   "execution_count": 31,
   "metadata": {},
   "outputs": [],
   "source": [
    "import pandas as pd\n",
    "import requests\n",
    "from bs4 import BeautifulSoup"
   ]
  },
  {
   "cell_type": "markdown",
   "metadata": {},
   "source": [
    "#### Get the table data from Wiki"
   ]
  },
  {
   "cell_type": "code",
   "execution_count": 8,
   "metadata": {},
   "outputs": [],
   "source": [
    "res = requests.get(\"https://en.wikipedia.org/wiki/List_of_postal_codes_of_Canada:_M\")\n",
    "soup = BeautifulSoup(res.content, 'html.parser')\n",
    "table = soup.find_all('table', class_ = 'wikitable') "
   ]
  },
  {
   "cell_type": "markdown",
   "metadata": {},
   "source": [
    "#### Cleanup the table data and store it into the DataFrame"
   ]
  },
  {
   "cell_type": "code",
   "execution_count": 28,
   "metadata": {},
   "outputs": [],
   "source": [
    "toronto_data = pd.read_html(str(table))[0] # Store results onto DataFrame\n",
    "\n",
    "toronto_data.columns = toronto_data.columns.str.replace(r'\\\\n', '', regex=True) # Cleanup \\n from the column headers\n",
    "\n",
    "toronto_data = toronto_data.replace(r'\\\\n','', regex=True) # Cleanup \\n from the all rows\n",
    "\n",
    "toronto_data = toronto_data.replace(r'/',',', regex=True) # Cleanup / from the all rows\n",
    "\n",
    "indexNames = toronto_data[ toronto_data['Borough'] == 'Not assigned' ].index\n",
    "\n",
    "toronto_data.drop(indexNames, inplace=True)\n",
    "\n",
    "toronto_data = toronto_data.reset_index(drop = True)"
   ]
  },
  {
   "cell_type": "markdown",
   "metadata": {},
   "source": [
    "#### Find out the Latitude and Longitude of each Neighborhood in Toronto"
   ]
  },
  {
   "cell_type": "code",
   "execution_count": 29,
   "metadata": {},
   "outputs": [],
   "source": [
    "lat_lng_csv = pd.read_csv('https://cocl.us/Geospatial_data')\n",
    "\n",
    "lat_lng_csv.rename(columns = {'Postal Code': 'Postal code'}, inplace = True)\n",
    "\n",
    "toronto_data = pd.merge(toronto_data, lat_lng_csv[['Postal code', 'Latitude', 'Longitude']], on = 'Postal code')\n",
    "\n",
    "toronto_data.drop(columns = ['Postal code'], inplace=True)\n",
    "\n",
    "toronto_data = toronto_data.loc[toronto_data['Borough'].str.contains('Downtown Toronto')].reset_index(drop = True)"
   ]
  },
  {
   "cell_type": "markdown",
   "metadata": {},
   "source": [
    "#### Filter \"St. James Town, Downtown Toronto, Canada\" from data set as it is the source Neighborhood"
   ]
  },
  {
   "cell_type": "code",
   "execution_count": 32,
   "metadata": {},
   "outputs": [
    {
     "data": {
      "text/html": [
       "<div>\n",
       "<style scoped>\n",
       "    .dataframe tbody tr th:only-of-type {\n",
       "        vertical-align: middle;\n",
       "    }\n",
       "\n",
       "    .dataframe tbody tr th {\n",
       "        vertical-align: top;\n",
       "    }\n",
       "\n",
       "    .dataframe thead th {\n",
       "        text-align: right;\n",
       "    }\n",
       "</style>\n",
       "<table border=\"1\" class=\"dataframe\">\n",
       "  <thead>\n",
       "    <tr style=\"text-align: right;\">\n",
       "      <th></th>\n",
       "      <th>Borough</th>\n",
       "      <th>Neighborhood</th>\n",
       "      <th>Latitude</th>\n",
       "      <th>Longitude</th>\n",
       "    </tr>\n",
       "  </thead>\n",
       "  <tbody>\n",
       "    <tr>\n",
       "      <th>3</th>\n",
       "      <td>Downtown Toronto</td>\n",
       "      <td>St. James Town</td>\n",
       "      <td>43.651494</td>\n",
       "      <td>-79.375418</td>\n",
       "    </tr>\n",
       "  </tbody>\n",
       "</table>\n",
       "</div>"
      ],
      "text/plain": [
       "            Borough    Neighborhood   Latitude  Longitude\n",
       "3  Downtown Toronto  St. James Town  43.651494 -79.375418"
      ]
     },
     "execution_count": 32,
     "metadata": {},
     "output_type": "execute_result"
    }
   ],
   "source": [
    "users_current_data = toronto_data[toronto_data['Neighborhood'] == 'St. James Town']\n",
    "\n",
    "#\n",
    "# User's current Neighborhood\n",
    "#\n",
    "users_current_data.head()"
   ]
  },
  {
   "cell_type": "markdown",
   "metadata": {},
   "source": [
    "#### 2.1.2 __New York__: \n",
    "\n",
    "https://cocl.us/new_york_dataset/newyork_data.json (Curated list of NewYork Neighborhoods)\n",
    "\n",
    "Manhattan, Newyork is considered as our destination city for this project.\n",
    "\n",
    "Below you can check the sample of data,"
   ]
  },
  {
   "cell_type": "code",
   "execution_count": 48,
   "metadata": {},
   "outputs": [
    {
     "name": "stdout",
     "output_type": "stream",
     "text": [
      "/bin/sh: wget: command not found\n",
      "     Borough        Neighborhood   Latitude  Longitude\n",
      "0  Manhattan         Marble Hill  40.876551 -73.910660\n",
      "1  Manhattan           Chinatown  40.715618 -73.994279\n",
      "2  Manhattan  Washington Heights  40.851903 -73.936900\n",
      "3  Manhattan              Inwood  40.867684 -73.921210\n",
      "4  Manhattan    Hamilton Heights  40.823604 -73.949688\n",
      "\n",
      " Manhattan has 40 neighborhoods\n"
     ]
    }
   ],
   "source": [
    "import json\n",
    "!wget -q -O 'newyork_data.json' https://cocl.us/new_york_dataset\n",
    "with open('newyork_data.json') as json_data:\n",
    "    newyork_data = json.load(json_data)\n",
    "    \n",
    "neighborhoods_data = newyork_data['features']\n",
    "\n",
    "# define the dataframe columns\n",
    "column_names = ['Borough', 'Neighborhood', 'Latitude', 'Longitude'] \n",
    "\n",
    "# instantiate the dataframe\n",
    "neighborhoods = pd.DataFrame(columns=column_names)\n",
    "\n",
    "for data in neighborhoods_data:\n",
    "    borough = neighborhood_name = data['properties']['borough'] \n",
    "    neighborhood_name = data['properties']['name']\n",
    "        \n",
    "    neighborhood_latlon = data['geometry']['coordinates']\n",
    "    neighborhood_lat = neighborhood_latlon[1]\n",
    "    neighborhood_lon = neighborhood_latlon[0]\n",
    "    \n",
    "    neighborhoods = neighborhoods.append({'Borough': borough,\n",
    "                                          'Neighborhood': neighborhood_name,\n",
    "                                          'Latitude': neighborhood_lat,\n",
    "                                          'Longitude': neighborhood_lon}, ignore_index=True)\n",
    "    \n",
    "manhattan_data = neighborhoods[neighborhoods['Borough'] == 'Manhattan'].reset_index(drop=True)\n",
    "\n",
    "#\n",
    "# Manhattan, NewYork data after cleaning\n",
    "#\n",
    "print(manhattan_data.head())\n",
    "\n",
    "print('\\n Manhattan has {} neighborhoods'.format(manhattan_data.shape[0]))"
   ]
  },
  {
   "cell_type": "markdown",
   "metadata": {},
   "source": [
    "### 2.2 Foursquare API:\n",
    "Foursquare API gives us the following data:\n",
    "* list of Venues across Neighborhood\n",
    "* Venue ratings\n",
    "* Venue Check-ins\n",
    "\n",
    "We propose a method to solve the problem by finding similar venues across the source and destination neighborhoods. Checking against the time of Check-ins & the location entropy across the nearby similar venues and also considering the geographical space/distance from the desired location of work, we can suggest the set of Neighborhood the user can relocate to.\n",
    "\n",
    "You can check out the output of FourSquare API where it gives out the number of venues in each neighborhood and number of unique categories in the data set."
   ]
  },
  {
   "cell_type": "markdown",
   "metadata": {},
   "source": [
    "#### Define FourSquare credentials and version"
   ]
  },
  {
   "cell_type": "code",
   "execution_count": 35,
   "metadata": {},
   "outputs": [],
   "source": [
    "CLIENT_ID = 'HMRCWPCJVQTWTZMZIEFGD3D4YD0CKZAHIDYSW3BJ55KKWROO' # your Foursquare ID\n",
    "CLIENT_SECRET = 'LJP5G15ZQKJDFAEU0UGBLA40X43NDDK0O2KEAI44BYYOSW2W' # your Foursquare Secret\n",
    "VERSION = '20180605' # Foursquare API version\n",
    "LIMIT = 100"
   ]
  },
  {
   "cell_type": "markdown",
   "metadata": {},
   "source": [
    "#### Define a function to get the venues near the neighborhood"
   ]
  },
  {
   "cell_type": "code",
   "execution_count": 36,
   "metadata": {},
   "outputs": [],
   "source": [
    "def getNearbyVenues(names, latitudes, longitudes, radius=500):\n",
    "    \n",
    "    venues_list=[]\n",
    "    print(\"Below are the Venue information for the respective Neighborhoods:\")\n",
    "    for name, lat, lng in zip(names, latitudes, longitudes):            \n",
    "        # create the API request URL\n",
    "        url = 'https://api.foursquare.com/v2/venues/explore?&client_id={}&client_secret={}&v={}&ll={},{}&radius={}&limit={}'.format(\n",
    "            CLIENT_ID, \n",
    "            CLIENT_SECRET, \n",
    "            VERSION, \n",
    "            lat, \n",
    "            lng, \n",
    "            radius, \n",
    "            LIMIT)\n",
    "            \n",
    "        # make the GET request\n",
    "        results = requests.get(url).json()[\"response\"]['groups'][0]['items']\n",
    "        \n",
    "        # return only relevant information for each nearby venue\n",
    "        venues_list.append([(\n",
    "            name, \n",
    "            lat, \n",
    "            lng, \n",
    "            v['venue']['name'], \n",
    "            v['venue']['location']['lat'], \n",
    "            v['venue']['location']['lng'],  \n",
    "            v['venue']['categories'][0]['name']) for v in results])\n",
    "        print('{} : {} Venues'.format(name, len(results)))\n",
    "\n",
    "    nearby_venues = pd.DataFrame([item for venue_list in venues_list for item in venue_list])\n",
    "    nearby_venues.columns = ['Neighborhood', \n",
    "                  'Neighborhood Latitude', \n",
    "                  'Neighborhood Longitude', \n",
    "                  'Venue', \n",
    "                  'Venue Latitude', \n",
    "                  'Venue Longitude', \n",
    "                  'Venue Category']\n",
    "    \n",
    "    return(nearby_venues)"
   ]
  },
  {
   "cell_type": "code",
   "execution_count": 37,
   "metadata": {},
   "outputs": [
    {
     "name": "stdout",
     "output_type": "stream",
     "text": [
      "Below are the Venue information for the respective Neighborhoods:\n",
      "Marble Hill : 25 Venues\n",
      "Chinatown : 100 Venues\n",
      "Washington Heights : 88 Venues\n",
      "Inwood : 55 Venues\n",
      "Hamilton Heights : 62 Venues\n",
      "Manhattanville : 47 Venues\n",
      "Central Harlem : 44 Venues\n",
      "East Harlem : 41 Venues\n",
      "Upper East Side : 94 Venues\n",
      "Yorkville : 100 Venues\n",
      "Lenox Hill : 100 Venues\n",
      "Roosevelt Island : 26 Venues\n",
      "Upper West Side : 85 Venues\n",
      "Lincoln Square : 100 Venues\n",
      "Clinton : 100 Venues\n",
      "Midtown : 100 Venues\n",
      "Murray Hill : 100 Venues\n",
      "Chelsea : 100 Venues\n",
      "Greenwich Village : 100 Venues\n",
      "East Village : 100 Venues\n",
      "Lower East Side : 55 Venues\n",
      "Tribeca : 91 Venues\n",
      "Little Italy : 100 Venues\n",
      "Soho : 100 Venues\n",
      "West Village : 100 Venues\n",
      "Manhattan Valley : 52 Venues\n",
      "Morningside Heights : 39 Venues\n",
      "Gramercy : 92 Venues\n",
      "Battery Park City : 80 Venues\n",
      "Financial District : 100 Venues\n",
      "Carnegie Hill : 92 Venues\n",
      "Noho : 100 Venues\n",
      "Civic Center : 100 Venues\n",
      "Midtown South : 100 Venues\n",
      "Sutton Place : 100 Venues\n",
      "Turtle Bay : 100 Venues\n",
      "Tudor City : 78 Venues\n",
      "Stuyvesant Town : 19 Venues\n",
      "Flatiron : 100 Venues\n",
      "Hudson Yards : 73 Venues\n"
     ]
    }
   ],
   "source": [
    "manhattan_venues = getNearbyVenues(names=manhattan_data['Neighborhood'],\n",
    "                                   latitudes=manhattan_data['Latitude'],\n",
    "                                   longitudes=manhattan_data['Longitude']\n",
    "                                  )"
   ]
  },
  {
   "cell_type": "code",
   "execution_count": 45,
   "metadata": {},
   "outputs": [
    {
     "name": "stdout",
     "output_type": "stream",
     "text": [
      "There are 321 uniques categories.\n",
      "\n",
      "\n",
      "0                          Pizza Place\n",
      "1                          Yoga Studio\n",
      "2                                Diner\n",
      "3                           Donut Shop\n",
      "4                          Coffee Shop\n",
      "5                                  Gym\n",
      "6                     Department Store\n",
      "7                   Seafood Restaurant\n",
      "8                       Tennis Stadium\n",
      "9                             Pharmacy\n",
      "10                      Discount Store\n",
      "11                     Supplement Shop\n",
      "12                      Ice Cream Shop\n",
      "13                      Sandwich Place\n",
      "14                  Miscellaneous Shop\n",
      "15                 American Restaurant\n",
      "16                                Bank\n",
      "17                          Steakhouse\n",
      "18                          Kids Store\n",
      "19                       Shopping Mall\n",
      "20                       Deli / Bodega\n",
      "21                               Hotel\n",
      "22                   Hotpot Restaurant\n",
      "23                    Greek Restaurant\n",
      "24                        Cocktail Bar\n",
      "25                  Chinese Restaurant\n",
      "26                                 Spa\n",
      "27                  English Restaurant\n",
      "28                              Bakery\n",
      "29                              Museum\n",
      "                    ...               \n",
      "291                   Community Center\n",
      "292                  Kosher Restaurant\n",
      "293               Himalayan Restaurant\n",
      "294              Venezuelan Restaurant\n",
      "295    Molecular Gastronomy Restaurant\n",
      "296                       Antique Shop\n",
      "297                     Medical Center\n",
      "298          Cajun / Creole Restaurant\n",
      "299                         Baby Store\n",
      "300                         Strip Club\n",
      "301                    Laundry Service\n",
      "302                     Massage Studio\n",
      "303                     Adult Boutique\n",
      "304                      Design Studio\n",
      "305                 Persian Restaurant\n",
      "306               Cambodian Restaurant\n",
      "307         Tourist Information Center\n",
      "308                     Duty-free Shop\n",
      "309                           Sake Bar\n",
      "310                         Non-Profit\n",
      "311                    Soba Restaurant\n",
      "312                   Business Service\n",
      "313                           Heliport\n",
      "314                     Baseball Field\n",
      "315                    Harbor / Marina\n",
      "316                 Russian Restaurant\n",
      "317                   Kebab Restaurant\n",
      "318                      Acupuncturist\n",
      "319                   Pedestrian Plaza\n",
      "320                       Camera Store\n",
      "Name: Venue Category, Length: 321, dtype: object\n"
     ]
    }
   ],
   "source": [
    "print('There are {} uniques categories.'.format(len(manhattan_venues['Venue Category'].unique())))\n",
    "print('\\n')\n",
    "print(manhattan_venues['Venue Category'].drop_duplicates().reset_index(drop=True))"
   ]
  }
 ],
 "metadata": {
  "kernelspec": {
   "display_name": "Python 2",
   "language": "python",
   "name": "python2"
  },
  "language_info": {
   "codemirror_mode": {
    "name": "ipython",
    "version": 2
   },
   "file_extension": ".py",
   "mimetype": "text/x-python",
   "name": "python",
   "nbconvert_exporter": "python",
   "pygments_lexer": "ipython2",
   "version": "2.7.16"
  }
 },
 "nbformat": 4,
 "nbformat_minor": 2
}
