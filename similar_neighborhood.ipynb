{
 "cells": [
  {
   "cell_type": "markdown",
   "metadata": {},
   "source": [
    "# Capstone Project - The Battle of Neighborhoods"
   ]
  },
  {
   "cell_type": "markdown",
   "metadata": {},
   "source": [
    "## Title:"
   ]
  },
  {
   "cell_type": "markdown",
   "metadata": {},
   "source": [
    "### Finding similar neighborhood across cities based on Venues across neighborhood"
   ]
  },
  {
   "cell_type": "markdown",
   "metadata": {},
   "source": [
    "## Introduction: \n",
    "### Business Problem"
   ]
  },
  {
   "cell_type": "markdown",
   "metadata": {},
   "source": [
    "Often people have to relocate to different cities due to Job change, there is always a confusion on which neighborhood to shift to in a particular city. Varieties of question arises, \n",
    "* Should I find the neighborhood which is closer to the new workplace? \n",
    "* Should I find the neighborhood which is similar to my current neighborhood?\n",
    "* Should I explore some unique neighborhoods around?\n",
    "* Does the cost of living matter there? Or Does the crime rate matter compared to my current neighborhood? and so many different questions arises as the person starts exploring the city..\n",
    "\n",
    "As an instance, Person named \"Adam\" living in \"St. James Town, Downtown Toronto, Canada\" has earned a Job in \"Midtown south, Manhattan, New York\". The proposed model will suggest the neighborhood of Manhattan which is similar to Adam's current neighborhood and also the nearest to his new workplace."
   ]
  },
  {
   "cell_type": "markdown",
   "metadata": {},
   "source": [
    "### Datasets and Analytic Approach"
   ]
  },
  {
   "cell_type": "markdown",
   "metadata": {},
   "source": [
    "#### City Data:\n",
    "__Canada__: https://en.wikipedia.org/wiki/List_of_postal_codes_of_Canada:_M_\n",
    "\n",
    "__New York__: newyork_data.json (Curated list of NewYork Neighborhoods)\n",
    "\n",
    "#### Foursquare:\n",
    "Foursquare API gives us the following data:\n",
    "* list of Venues across Neighborhood\n",
    "* Venue ratings\n",
    "* Venue Check-ins\n",
    "\n",
    "We propose a method to solve the problem by finding similar venues across the source and destination neighborhoods. Checking against the time of Check-ins & the location entropy across the nearby similar venues and also considering the geographical space/distance from the desired location of work, we can suggest the set of Neighborhood the user can relocate to."
   ]
  }
 ],
 "metadata": {
  "kernelspec": {
   "display_name": "Python 2",
   "language": "python",
   "name": "python2"
  },
  "language_info": {
   "codemirror_mode": {
    "name": "ipython",
    "version": 2
   },
   "file_extension": ".py",
   "mimetype": "text/x-python",
   "name": "python",
   "nbconvert_exporter": "python",
   "pygments_lexer": "ipython2",
   "version": "2.7.16"
  }
 },
 "nbformat": 4,
 "nbformat_minor": 2
}
